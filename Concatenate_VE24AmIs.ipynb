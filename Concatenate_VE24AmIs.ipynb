{
 "cells": [
  {
   "cell_type": "code",
   "execution_count": 1,
   "metadata": {
    "collapsed": false
   },
   "outputs": [],
   "source": [
    "import loompy\n",
    "import scanpy as sc\n",
    "import pandas as pd\n",
    "import seaborn as sns"
   ]
  },
  {
   "cell_type": "code",
   "execution_count": 2,
   "metadata": {
    "collapsed": false
   },
   "outputs": [
    {
     "name": "stdout",
     "output_type": "stream",
     "text": [
      "scanpy==1.6.0 anndata==0.7.5 umap==0.4.6 numpy==1.19.4 scipy==1.5.3 pandas==1.1.4 scikit-learn==0.23.2 statsmodels==0.12.1 python-igraph==0.8.3 louvain==0.7.0 leidenalg==0.8.2\n"
     ]
    }
   ],
   "source": [
    "sc.settings.verbosity = 3   # verbosity: errors (0), warnings (1), info (2), hints (3)\n",
    "#sc.logging.print_versions()  # Logging version number is important to keep track of for research purposes\n",
    "sc.logging.print_header()\n",
    "sc.settings.set_figure_params(dpi=80)"
   ]
  },
  {
   "cell_type": "code",
   "execution_count": 3,
   "metadata": {
    "collapsed": false
   },
   "outputs": [
    {
     "name": "stdout",
     "output_type": "stream",
     "text": [
      "V24Am.loom exist\n"
     ]
    }
   ],
   "source": [
    "import os.path\n",
    "if os.path.isfile('./V24Am.loom'):\n",
    "    print (\"V24Am.loom exist\")\n",
    "else:\n",
    "    !wget -c https://www.winuthayanon.com/share/looms-published/V24Am.loom"
   ]
  },
  {
   "cell_type": "code",
   "execution_count": 4,
   "metadata": {
    "collapsed": false
   },
   "outputs": [
    {
     "name": "stdout",
     "output_type": "stream",
     "text": [
      "V24Is.loom exist\n"
     ]
    }
   ],
   "source": [
    "import os.path\n",
    "if os.path.isfile('./V24Is.loom'):\n",
    "    print (\"V24Is.loom exist\")\n",
    "else:\n",
    "    !wget -c https://www.winuthayanon.com/share/looms-published/V24Is.loom"
   ]
  },
  {
   "cell_type": "code",
   "execution_count": 5,
   "metadata": {
    "collapsed": false
   },
   "outputs": [
    {
     "name": "stdout",
     "output_type": "stream",
     "text": [
      "E24Am.loom exist\n"
     ]
    }
   ],
   "source": [
    "import os.path\n",
    "if os.path.isfile('./E24Am.loom'):\n",
    "    print (\"E24Am.loom exist\")\n",
    "else:\n",
    "    !wget -c https://www.winuthayanon.com/share/looms-published/E24Am.loom"
   ]
  },
  {
   "cell_type": "code",
   "execution_count": 6,
   "metadata": {
    "collapsed": false
   },
   "outputs": [
    {
     "name": "stdout",
     "output_type": "stream",
     "text": [
      "E24Is.loom exist\n"
     ]
    }
   ],
   "source": [
    "import os.path\n",
    "if os.path.isfile('./E24Is.loom'):\n",
    "    print (\"E24Is.loom exist\")\n",
    "else:\n",
    "    !wget -c https://www.winuthayanon.com/share/looms-published/E24Is.loom"
   ]
  },
  {
   "cell_type": "code",
   "execution_count": 7,
   "metadata": {
    "collapsed": false
   },
   "outputs": [
    {
     "name": "stderr",
     "output_type": "stream",
     "text": [
      "Variable names are not unique. To make them unique, call `.var_names_make_unique`.\n",
      "Variable names are not unique. To make them unique, call `.var_names_make_unique`.\n",
      "Variable names are not unique. To make them unique, call `.var_names_make_unique`.\n",
      "Variable names are not unique. To make them unique, call `.var_names_make_unique`.\n"
     ]
    }
   ],
   "source": [
    "V24Am = sc.read_loom('./V24Am.loom')\n",
    "V24Is = sc.read_loom('./V24Is.loom')\n",
    "E24Am = sc.read_loom('./E24Am.loom')\n",
    "E24Is = sc.read_loom('./E24Is.loom')"
   ]
  },
  {
   "cell_type": "code",
   "execution_count": 8,
   "metadata": {
    "collapsed": false
   },
   "outputs": [],
   "source": [
    "V24Am.var_names_make_unique()\n",
    "V24Is.var_names_make_unique()\n",
    "E24Am.var_names_make_unique()\n",
    "E24Is.var_names_make_unique()"
   ]
  },
  {
   "cell_type": "code",
   "execution_count": 9,
   "metadata": {
    "collapsed": false
   },
   "outputs": [],
   "source": [
    "V24AmIs = V24Am.concatenate(V24Is, batch_key='Region', batch_categories=['Ampulla','Isthmus'])\n",
    "E24AmIs = E24Am.concatenate(E24Is, batch_key='Region', batch_categories=['Ampulla','Isthmus'])"
   ]
  },
  {
   "cell_type": "code",
   "execution_count": 10,
   "metadata": {
    "collapsed": false
   },
   "outputs": [],
   "source": [
    "#VE24AmIs = V24AmIs.concatenate(bdata,cdata,ddata, batch_key='Time', batch_categories=['0.5_dpc','1.5_dpc', '2.5_dpc', 'Ctrl'])"
   ]
  },
  {
   "cell_type": "code",
   "execution_count": 11,
   "metadata": {
    "collapsed": false
   },
   "outputs": [],
   "source": [
    "VE24AmIs = V24AmIs.concatenate(E24AmIs, batch_key='Treatment', batch_categories=['Veh','E2'])"
   ]
  },
  {
   "cell_type": "code",
   "execution_count": 12,
   "metadata": {
    "collapsed": false
   },
   "outputs": [
    {
     "data": {
      "text/plain": [
       "AnnData object with n_obs × n_vars = 9794 × 31053\n",
       "    obs: 'Clusters', '_X', '_Y', 'Region', 'Treatment'\n",
       "    var: 'Accession', 'Chromosome', 'End', 'Start', 'Strand'\n",
       "    layers: 'matrix', 'ambiguous', 'spliced', 'unspliced'"
      ]
     },
     "execution_count": 12,
     "metadata": {},
     "output_type": "execute_result"
    }
   ],
   "source": [
    "VE24AmIs"
   ]
  },
  {
   "cell_type": "code",
   "execution_count": 13,
   "metadata": {
    "collapsed": false
   },
   "outputs": [
    {
     "name": "stderr",
     "output_type": "stream",
     "text": [
      "... storing 'Chromosome' as categorical\n",
      "... storing 'Strand' as categorical\n"
     ]
    }
   ],
   "source": [
    "VE24AmIs.write('./VE24AmIs.h5ad')"
   ]
  }
 ],
 "metadata": {
  "kernelspec": {
   "display_name": "Python 3",
   "language": "python",
   "name": "python3"
  },
  "language_info": {
   "codemirror_mode": {
    "name": "ipython",
    "version": 3
   },
   "file_extension": ".py",
   "mimetype": "text/x-python",
   "name": "python",
   "nbconvert_exporter": "python",
   "pygments_lexer": "ipython3",
   "version": "3.7.8"
  }
 },
 "nbformat": 4,
 "nbformat_minor": 4
}
